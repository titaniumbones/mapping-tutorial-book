{
 "cells": [
  {
   "cell_type": "markdown",
   "id": "4b8622de",
   "metadata": {},
   "source": [
    "# How We make Maps\n",
    "\n",
    "This interface should (I hope!) allow you to get started with Python and mapping.  There are many different ways to make maps in Python, and we will only explore one path today. In later work we may switch to a different framework, but most of the concepts will apply to other tools, even end-user tools like MapBox or StoryMaps. \n",
    "\n",
    "(section-label)=\n",
    "## Imports: Build your toolbox\n",
    "\n",
    "Python is the most widely-used prgramming language for scientific computing, and has a wide variety of tools for working with data. We get access to those tools by `import` ing them into our project. I won'texplain every one of these tools in this tutorial; imagine, in stead, that you have just started an apprenticeship at an auto mechanic shop.  There are many tools in the building, but you will only learn to use a few of them at first."
   ]
  },
  {
   "cell_type": "code",
   "execution_count": 2,
   "id": "3b0a369f",
   "metadata": {},
   "outputs": [],
   "source": [
    "import folium"
   ]
  },
  {
   "cell_type": "markdown",
   "id": "e6bafdcd",
   "metadata": {},
   "source": [
    "When we `import` a library, that library becomes available to us, and we can use its many attributes. A library generally provides a numbero f functions and objects (you can google to learn more about that that means) which you access using so-called \"dot notation\". These are often called the library's API. So for instance, folium has an API entrypoint called `Map`. Once the library is imported, we can access it by issuing the command\n",
    "\n",
    "``` python\n",
    "folium.Map()\n",
    "```\n",
    "\n",
    "(see next section)\n",
    "\n",
    "(section-label)=\n",
    "### Interactive maps with Folium\n",
    "\n",
    "[Folium](https://python-visualization.github.io/folium/latest/index.html) is the keystone of everything we will be learning.  It is a bridge between the python universe and JavaScript tools that work in the browser, so it allows us to build web-based interactive maps easily, without having to learn the complex syntax of JavaScript. \n",
    "\n",
    "Making a map is almost trivially easy:"
   ]
  },
  {
   "cell_type": "code",
   "execution_count": null,
   "id": "c72b8ec0",
   "metadata": {},
   "outputs": [],
   "source": [
    "sample_map = folium.Map()\n",
    "sample_map"
   ]
  },
  {
   "cell_type": "markdown",
   "id": "132d14bc",
   "metadata": {},
   "source": [
    "The first lines creates a \"variable\" called `sample_map` which is an \"instance\" of an object of class `folium.Map`. The second line, when issued as the final line in a Jupyter notebook cell like this one, will generate and display the map. \n",
    "\n",
    "This map is perfectly functional.  However, we can customize it, and make it more useful, by \"passing arguments\" when we create it:"
   ]
  },
  {
   "cell_type": "code",
   "execution_count": 5,
   "id": "82e183f6",
   "metadata": {},
   "outputs": [
    {
     "data": {
      "text/html": [
       "<div style=\"width:100%;\"><div style=\"position:relative;width:100%;height:0;padding-bottom:60%;\"><span style=\"color:#565656\">Make this Notebook Trusted to load map: File -> Trust Notebook</span><iframe srcdoc=\"&lt;!DOCTYPE html&gt;\n",
       "&lt;html&gt;\n",
       "&lt;head&gt;\n",
       "    \n",
       "    &lt;meta http-equiv=&quot;content-type&quot; content=&quot;text/html; charset=UTF-8&quot; /&gt;\n",
       "    \n",
       "        &lt;script&gt;\n",
       "            L_NO_TOUCH = false;\n",
       "            L_DISABLE_3D = false;\n",
       "        &lt;/script&gt;\n",
       "    \n",
       "    &lt;style&gt;html, body {width: 100%;height: 100%;margin: 0;padding: 0;}&lt;/style&gt;\n",
       "    &lt;style&gt;#map {position:absolute;top:0;bottom:0;right:0;left:0;}&lt;/style&gt;\n",
       "    &lt;script src=&quot;https://cdn.jsdelivr.net/npm/leaflet@1.9.3/dist/leaflet.js&quot;&gt;&lt;/script&gt;\n",
       "    &lt;script src=&quot;https://code.jquery.com/jquery-3.7.1.min.js&quot;&gt;&lt;/script&gt;\n",
       "    &lt;script src=&quot;https://cdn.jsdelivr.net/npm/bootstrap@5.2.2/dist/js/bootstrap.bundle.min.js&quot;&gt;&lt;/script&gt;\n",
       "    &lt;script src=&quot;https://cdnjs.cloudflare.com/ajax/libs/Leaflet.awesome-markers/2.0.2/leaflet.awesome-markers.js&quot;&gt;&lt;/script&gt;\n",
       "    &lt;link rel=&quot;stylesheet&quot; href=&quot;https://cdn.jsdelivr.net/npm/leaflet@1.9.3/dist/leaflet.css&quot;/&gt;\n",
       "    &lt;link rel=&quot;stylesheet&quot; href=&quot;https://cdn.jsdelivr.net/npm/bootstrap@5.2.2/dist/css/bootstrap.min.css&quot;/&gt;\n",
       "    &lt;link rel=&quot;stylesheet&quot; href=&quot;https://netdna.bootstrapcdn.com/bootstrap/3.0.0/css/bootstrap.min.css&quot;/&gt;\n",
       "    &lt;link rel=&quot;stylesheet&quot; href=&quot;https://cdn.jsdelivr.net/npm/@fortawesome/fontawesome-free@6.2.0/css/all.min.css&quot;/&gt;\n",
       "    &lt;link rel=&quot;stylesheet&quot; href=&quot;https://cdnjs.cloudflare.com/ajax/libs/Leaflet.awesome-markers/2.0.2/leaflet.awesome-markers.css&quot;/&gt;\n",
       "    &lt;link rel=&quot;stylesheet&quot; href=&quot;https://cdn.jsdelivr.net/gh/python-visualization/folium/folium/templates/leaflet.awesome.rotate.min.css&quot;/&gt;\n",
       "    \n",
       "            &lt;meta name=&quot;viewport&quot; content=&quot;width=device-width,\n",
       "                initial-scale=1.0, maximum-scale=1.0, user-scalable=no&quot; /&gt;\n",
       "            &lt;style&gt;\n",
       "                #map_c8e5487b766d8534f936f8f2d28a56f1 {\n",
       "                    position: relative;\n",
       "                    width: 100.0%;\n",
       "                    height: 100.0%;\n",
       "                    left: 0.0%;\n",
       "                    top: 0.0%;\n",
       "                }\n",
       "                .leaflet-container { font-size: 1rem; }\n",
       "            &lt;/style&gt;\n",
       "        \n",
       "&lt;/head&gt;\n",
       "&lt;body&gt;\n",
       "    \n",
       "    \n",
       "            &lt;div class=&quot;folium-map&quot; id=&quot;map_c8e5487b766d8534f936f8f2d28a56f1&quot; &gt;&lt;/div&gt;\n",
       "        \n",
       "&lt;/body&gt;\n",
       "&lt;script&gt;\n",
       "    \n",
       "    \n",
       "            var map_c8e5487b766d8534f936f8f2d28a56f1 = L.map(\n",
       "                &quot;map_c8e5487b766d8534f936f8f2d28a56f1&quot;,\n",
       "                {\n",
       "                    center: [45.5019, -73.5674],\n",
       "                    crs: L.CRS.EPSG3857,\n",
       "                    zoom: 10,\n",
       "                    zoomControl: true,\n",
       "                    preferCanvas: false,\n",
       "                    startZoom: 6,\n",
       "                }\n",
       "            );\n",
       "\n",
       "            \n",
       "\n",
       "        \n",
       "    \n",
       "            var tile_layer_d913dcf713bbef6be8259f9f62307894 = L.tileLayer(\n",
       "                &quot;https://{s}.basemaps.cartocdn.com/light_all/{z}/{x}/{y}{r}.png&quot;,\n",
       "                {&quot;attribution&quot;: &quot;\\u0026copy; \\u003ca href=\\&quot;https://www.openstreetmap.org/copyright\\&quot;\\u003eOpenStreetMap\\u003c/a\\u003e contributors \\u0026copy; \\u003ca href=\\&quot;https://carto.com/attributions\\&quot;\\u003eCARTO\\u003c/a\\u003e&quot;, &quot;detectRetina&quot;: false, &quot;maxNativeZoom&quot;: 20, &quot;maxZoom&quot;: 20, &quot;minZoom&quot;: 0, &quot;noWrap&quot;: false, &quot;opacity&quot;: 1, &quot;subdomains&quot;: &quot;abcd&quot;, &quot;tms&quot;: false}\n",
       "            );\n",
       "        \n",
       "    \n",
       "            tile_layer_d913dcf713bbef6be8259f9f62307894.addTo(map_c8e5487b766d8534f936f8f2d28a56f1);\n",
       "        \n",
       "&lt;/script&gt;\n",
       "&lt;/html&gt;\" style=\"position:absolute;width:100%;height:100%;left:0;top:0;border:none !important;\" allowfullscreen webkitallowfullscreen mozallowfullscreen></iframe></div></div>"
      ],
      "text/plain": [
       "<folium.folium.Map at 0x76aae0046450>"
      ]
     },
     "execution_count": 5,
     "metadata": {},
     "output_type": "execute_result"
    }
   ],
   "source": [
    "sample_map = folium.Map(tiles='cartodbpositron',\n",
    "                        location=[45.5019,-73.5674],\n",
    "                        start_zoom=6\n",
    ")\n",
    "sample_map"
   ]
  }
 ],
 "metadata": {
  "jupytext": {
   "cell_metadata_filter": "-all"
  },
  "kernelspec": {
   "display_name": "Python 3 (ipykernel)",
   "language": "python",
   "name": "python3"
  },
  "language_info": {
   "codemirror_mode": {
    "name": "ipython",
    "version": 3
   },
   "file_extension": ".py",
   "mimetype": "text/x-python",
   "name": "python",
   "nbconvert_exporter": "python",
   "pygments_lexer": "ipython3",
   "version": "3.11.7"
  }
 },
 "nbformat": 4,
 "nbformat_minor": 5
}
