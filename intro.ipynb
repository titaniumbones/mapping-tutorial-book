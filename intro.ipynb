{
 "cells": [
  {
   "cell_type": "markdown",
   "id": "9b99688e-48c0-4266-b613-e81ed30d00e4",
   "metadata": {},
   "source": [
    "# About this Project\n",
    "\n",
    "We were given a fairly simple task, but it turned out to be a little bit harder than it seemed at first. I ended up using python to do it; you can too.\n",
    "\n",
    "This document is a bito f axperiment; it’s called a Jupyter-Book, and it should bei nteractive (but I haven’t tested yet.\n",
    "\n",
    "check out [the Jupyter Book documentation](https://jupyterbook.org) for more information.\n",
    "\n",
    "Check out the content pages bundled with this sample book to see more.\n",
    "\n",
    "`{tableofcontents}`\n",
    "\n",
    "This is my first time using this format! So I’m learning too."
   ]
  }
 ],
 "metadata": {},
 "nbformat": 4,
 "nbformat_minor": 5
}
