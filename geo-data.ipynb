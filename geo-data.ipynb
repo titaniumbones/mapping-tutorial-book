{
 "cells": [
  {
   "cell_type": "markdown",
   "id": "9b084c8c",
   "metadata": {},
   "source": [
    "# Working with Geographic Data\n",
    "\n",
    "So, now we have seen how to build a map. But we are a Data Commons, and we work with **data**.  So let's start understanding data sources.\n",
    "\n",
    "You are probably used to working with data in spreadsheets or in a tool like [AirTable](https://www.airtable.com). These tools organize data in **tabular format**  -- each dataset is a rectangle with a certain number of rows and columns.  In data science, we sometims call these structures **data frames**, and python has a special package to work with dataframes called [pandas](https://pandas.pydata.org). \n",
    "\n",
    "## Pandas Dataframes\n",
    "Let's import the pandas package and create a simple dataframe.  We'll use a popular open dataset used in many examples on the web, called \"iris\", which records certain physical characteristics of 150 species of irises. \n",
    "\n",
    ":::{tip}\n",
    "Notice that wer're using `import` a little differently here than the last time.  By adding `as pd`, we're telling python \"import as usual, but instead of calling the pandas api with the name `pandas`, we'll use the name `pd`.\"  `pd` is the standard abbreviation used by most pythonistas.\n",
    ":::"
   ]
  },
  {
   "cell_type": "code",
   "execution_count": null,
   "id": "6f0aace1",
   "metadata": {},
   "outputs": [],
   "source": [
    "import pandas as pd\n",
    "iris = pd.read_csv('https://raw.githubusercontent.com/mwaskom/seaborn-data/master/iris.csv')\n",
    "iris"
   ]
  },
  {
   "cell_type": "markdown",
   "id": "4d444741",
   "metadata": {},
   "source": [
    "What happened here?  Well, we asked pandas to fetch a csv file on the web ( `https://raw.githubusercontent.com/mwaskom/seaborn-data/master/iris.csv`), and create a DataFrame object named \"iris\" from that CSV. And then we asked pandas to show us the the dataset. \n",
    "\n",
    "There is a lot to learn about pandas, but we'll ignore most of its complexities for now (we'll explore a tiny fraction of its capabilities later). Our real reason for introucing it is to show off an amazing extension of pandas called [geopandas](https://geopandas.org/en/stable/). Geopandas has a number of sophisticated features for working with geographic datasets.\n",
    "\n",
    "## Geopandas Dataframes\n",
    "\n",
    "Geopandas dataframes build on regular pandas. They can do everything pandas can do, but in adidtion, there are special mapping features that would take a lot of work for you to replicate with ordinary `pd.dataFrame` objects. The `GeoDataFrame` makes our lives a lot easier.  \n",
    "\n",
    "Let's begin by acquiring the boundaries of all the countries in the world. The GIS company ESRI [provides such a dataset for free](https://hub.arcgis.com/datasets/esri::world-countries-generalized/explore), though they don't like to share the direct URL for it.  So instead, we have downloaded the dataset in a file near this textbook.\n",
    "\n",
    "Unlike `iris`, this dataset is not stured as a CSV, but in a format called [GeoJSON](https://geojson.org/). Working with GeoJSON directly can be difficult and confusing, but geopandas makes it easy. Let's import the dataset and take a look:"
   ]
  },
  {
   "cell_type": "code",
   "execution_count": null,
   "id": "5c7c969a",
   "metadata": {},
   "outputs": [],
   "source": [
    "import geopandas as gpd\n",
    "countries = gpd.read_file('data/countries.geojson')\n",
    "countries"
   ]
  },
  {
   "cell_type": "markdown",
   "id": "e904141d",
   "metadata": {},
   "source": [
    "ok, kind of cool. Now let's do something cooler."
   ]
  },
  {
   "cell_type": "code",
   "execution_count": null,
   "id": "15f237bb",
   "metadata": {},
   "outputs": [],
   "source": [
    "countries.plot(edgecolor=\"white\", color=\"green\", linewidth=0.4)"
   ]
  },
  {
   "cell_type": "markdown",
   "id": "63df92ae",
   "metadata": {},
   "source": [
    "Geopandas  made a map! And it's a bit hard to tell, but it _overlaid_ a layer of information with country borders on that map.  Here' let's include only the last 50 or so countries in the alphabet, by shortening the dataframe (and, especially, let's get rid of Antacrtica, so our map is a bit less confusing!)."
   ]
  },
  {
   "cell_type": "code",
   "execution_count": null,
   "id": "cf3e7a2c",
   "metadata": {},
   "outputs": [],
   "source": [
    "countries.tail(50).plot( edgecolor=\"white\", color=\"green\", linewidth=0.4)"
   ]
  },
  {
   "cell_type": "markdown",
   "id": "f6403d9b",
   "metadata": {},
   "source": [
    "While we're here, let's just get rid of antarctica from our dataset. This is a little hard to read, and you probably have questions, but don't worry about them for now."
   ]
  },
  {
   "cell_type": "code",
   "execution_count": null,
   "id": "c348c0d2",
   "metadata": {},
   "outputs": [],
   "source": [
    "countries = countries[((countries.COUNTRY != 'Antarctica'))]\n",
    "countries.plot()"
   ]
  },
  {
   "cell_type": "markdown",
   "id": "5469bd01",
   "metadata": {},
   "source": [
    "## Merging datasets\n",
    "\n",
    "OK, that was... fine, but not yet incredibly interesting.  What we really want is to show **the geographic dependencies of non-geographic variables.**  Like, how does wealth or population density vary by country?  \n",
    "\n",
    "T0 do this, we will *merge* our ocuntry geometry data with a second dataset. One simple statistic, on which we have lots of data, is population.  Let's makea `choropleth` picture -- a map in which the color of each country is proportional to its population.\n",
    "\n",
    "Fortunately, this data [is very easy to get](https://stats.oecd.org/Index.aspx?DataSetCode=EDU_DEM), and we've saved it in the file `data/population.csv`. It doesn't have any geographical geometry information, so we can't actually make it into a GeoDataFrame.  So we'll create a standards pandas DataFrame instead:"
   ]
  },
  {
   "cell_type": "code",
   "execution_count": null,
   "id": "0d93006b",
   "metadata": {},
   "outputs": [],
   "source": [
    "pop = pd.read_csv('data/world_population.csv')\n",
    "pop.head(2)"
   ]
  },
  {
   "cell_type": "markdown",
   "id": "a6e540e6",
   "metadata": {},
   "source": [
    "Oh look, here's a stroke of luck. Remember our `countries` dataset from above:"
   ]
  },
  {
   "cell_type": "code",
   "execution_count": null,
   "id": "8d67af9f",
   "metadata": {},
   "outputs": [],
   "source": [
    "countries.head(2)"
   ]
  },
  {
   "cell_type": "markdown",
   "id": "2d5f446f",
   "metadata": {},
   "source": [
    "**Both** datasets contain a column with the country names, and they appear to be identical!  This is gret news -- it means we can **merge** these datasets together, using the commons information as a \"key\"! Terrific. Now we just need to instruct `gpd` how to find that two columns -- which, you'll notice, have different names. Here's how we do that:"
   ]
  },
  {
   "cell_type": "code",
   "execution_count": null,
   "id": "ac65b86d",
   "metadata": {},
   "outputs": [],
   "source": [
    "joined = gpd.GeoDataFrame(countries.merge(pop, left_on=\"COUNTRY\", right_on='Country/Territory'))\n",
    "joined.head(2)"
   ]
  },
  {
   "cell_type": "markdown",
   "id": "af849915",
   "metadata": {},
   "source": [
    "As you can see, we have now combined the two datasets. GeoPandas has a quick and dirty way of showing data on a map, using colors on a spectrum across the range of values in one column. \n",
    "\n",
    "OK, let's work on that choropleth. Our dataset only has population numbers up to 2022, so we'll use that column as the basis of our choropleth. The instruction is simple:  we just pass the \"column\" argument to the `plot` method of the GeoDataFrame."
   ]
  },
  {
   "cell_type": "code",
   "execution_count": null,
   "id": "9be15770",
   "metadata": {},
   "outputs": [],
   "source": [
    "joined.plot(column='2022 Population', legend=True)"
   ]
  },
  {
   "cell_type": "markdown",
   "id": "52e31ef4",
   "metadata": {},
   "source": [
    "### Data Cleaning"
   ]
  },
  {
   "cell_type": "markdown",
   "id": "e452c59b",
   "metadata": {},
   "source": [
    "OK, that almost worked.  But there are a bunch of blank spots on the map.  It turns out that the names weren'texactly the same.  You could discover the errors yourself, but it's sort o a distraction, so we'll just show you what we found when we did this ourselves."
   ]
  },
  {
   "cell_type": "code",
   "execution_count": null,
   "id": "76d8f61b",
   "metadata": {},
   "outputs": [],
   "source": [
    "countries = countries.replace(\"Congo DRC\", \"Democratic Republic of the Congo\")\n",
    "pop=pop.replace(\"DR Congo\", \"Democratic Republic of the Congo\")\n",
    "countries = countries.replace(\"Congo\", \"Republic of the Congo\")\n",
    "countries = countries.replace(\"Russian Federation\", \"Russia\")\n",
    "countries = countries.replace(\"Bosnia and Herzegovina\", \"Bosnia & Herzegovina\")\n",
    "joined = gpd.GeoDataFrame(countries.merge(pop, left_on=\"COUNTRY\", right_on='Country/Territory'))\n",
    "joined.plot(column='2022 Population', legend=True, figsize=(10,6))"
   ]
  },
  {
   "cell_type": "markdown",
   "id": "ca8d1b86",
   "metadata": {},
   "source": [
    "### A tiny bit of math (areas, density, and growth rates)\n",
    "\n",
    ":::{tip}\n",
    "This section is a little more technically detailed, and you won't really need most of it for the next lesson. You can skip this if it's hard to follow. \n",
    ":::"
   ]
  },
  {
   "cell_type": "markdown",
   "id": "d846f291",
   "metadata": {},
   "source": [
    "This is interesting. But what if the absolute value of the population isn't what we're interested in? For instance, what if we care more about population density?\n",
    "\n",
    "Well, it's pretty easy to calculate density, and display it, but as you'll see here, there's kind of a problem:"
   ]
  },
  {
   "cell_type": "code",
   "execution_count": null,
   "id": "050afc7f",
   "metadata": {},
   "outputs": [],
   "source": [
    "joined['density']=joined['2022 Population']/joined.area\n",
    "joined['density']\n",
    "joined.plot(column='density', legend = True, figsize=(12,6))\n",
    "# joined.plot(column=\"Growth Rate\", legend=True,figsize=(12,6))"
   ]
  },
  {
   "cell_type": "markdown",
   "id": "2eb25b3f",
   "metadata": {},
   "source": [
    "The countries all look about the same, which is strange, because the scale goes form purple to yellow. \n",
    "\n",
    "THis is because there are several tiny island nations -- Monaco, Singapore, Gibraltar and the Maldives -- whose populatin density is way higher than anyone else's! They distort the scale, making everyone else look the same.  \n",
    "\n",
    "There are lots of ways to try to adjust htis.  For instance, we could take these nations out of the dataset:"
   ]
  },
  {
   "cell_type": "code",
   "execution_count": null,
   "id": "29512386",
   "metadata": {},
   "outputs": [],
   "source": [
    "joined = joined[((joined['Country/Territory'] != 'Singapore')) & ((joined['Country/Territory'] != 'Monaco')) & ((joined['Country/Territory'] != 'Maldives')) & ((joined['Country/Territory'] != 'Gibraltar')) ]\n",
    "joined.plot(column='density', legend = True, figsize=(12,6))\n",
    "# joined.sort_values('density').tail()"
   ]
  },
  {
   "cell_type": "markdown",
   "id": "f70c461a",
   "metadata": {},
   "source": [
    "alternatively, we can use logarithmic scale for the color distribution, which will also change the way the colors appear. For this we need to import another package, though"
   ]
  },
  {
   "cell_type": "code",
   "execution_count": null,
   "id": "72439c2e",
   "metadata": {},
   "outputs": [],
   "source": [
    "import matplotlib\n",
    "joined.plot(column='density', legend=True,norm=matplotlib.colors.LogNorm(vmin=joined['density'].min(), vmax=joined['density'].max()), figsize=[9,6.5])"
   ]
  },
  {
   "cell_type": "markdown",
   "id": "11c8b887",
   "metadata": {},
   "source": [
    "finally, let's try plotting growth rates instead.  We could calculate the growth rates ourselves form the underlying data, but let's take a shortcut and use the growth rates provided in the dataset itself:"
   ]
  },
  {
   "cell_type": "code",
   "execution_count": null,
   "id": "2f785b62",
   "metadata": {},
   "outputs": [],
   "source": [
    "joined.plot(column='Growth Rate', legend=True, figsize=[9,6.5])"
   ]
  }
 ],
 "metadata": {
  "jupytext": {
   "cell_metadata_filter": "-all",
   "formats": "md:myst,ipynb,py:percent"
  },
  "kernelspec": {
   "display_name": "Python 3 (ipykernel)",
   "language": "python",
   "name": "python3"
  }
 },
 "nbformat": 4,
 "nbformat_minor": 5
}
