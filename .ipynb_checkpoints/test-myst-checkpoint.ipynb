{
 "cells": [
  {
   "cell_type": "markdown",
   "id": "3bbef409-7fd9-4d9b-9289-9d1aa21f8f8a",
   "metadata": {},
   "source": [
    "Just checking how this actually works"
   ]
  },
  {
   "cell_type": "code",
   "execution_count": null,
   "id": "d12a0594-80f1-4d46-9210-e64bd5d17df5",
   "metadata": {},
   "outputs": [],
   "source": [
    "print(\"hello\")"
   ]
  }
 ],
 "metadata": {
  "jupytext": {
   "formats": "md:myst,ipynb"
  },
  "kernelspec": {
   "display_name": "Python 3 (ipykernel)",
   "language": "python",
   "name": "python3"
  },
  "language_info": {
   "codemirror_mode": {
    "name": "ipython",
    "version": 3
   },
   "file_extension": ".py",
   "mimetype": "text/x-python",
   "name": "python",
   "nbconvert_exporter": "python",
   "pygments_lexer": "ipython3",
   "version": "3.11.7"
  }
 },
 "nbformat": 4,
 "nbformat_minor": 5
}
