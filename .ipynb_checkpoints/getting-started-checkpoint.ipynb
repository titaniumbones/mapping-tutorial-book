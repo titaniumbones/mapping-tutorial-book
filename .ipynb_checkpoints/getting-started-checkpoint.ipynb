{
 "cells": [
  {
   "cell_type": "markdown",
   "id": "4b8622de",
   "metadata": {},
   "source": [
    "# How We make Maps\n",
    "\n",
    "This interface should (I hope!) allow you to get started with Python and mapping.  There are many different ways to make maps in Python, and we will only explore one path today. In later work we may switch to a different framework, but most of the concepts will apply to other tools, even end-user tools like MapBox or StoryMaps. \n",
    "\n",
    "(section-label)=\n",
    "## Imports: Build your toolbox\n",
    "\n",
    "Python is the most widely-used prgramming language for scientific computing, and has a wide variety of tools for working with data. We get access to those tools by `import` ing them into our project. I won'texplain every one of these tools in this tutorial; imagine, in stead, that you have just started an apprenticeship at an auto mechanic shop.  There are many tools in the building, but you will only learn to use a few of them at first."
   ]
  },
  {
   "cell_type": "code",
   "execution_count": null,
   "id": "3b0a369f",
   "metadata": {},
   "outputs": [],
   "source": [
    "import folium"
   ]
  },
  {
   "cell_type": "markdown",
   "id": "e6bafdcd",
   "metadata": {},
   "source": [
    "When we `import` a library, that library becomes available to us, and we can use its many attributes. A library generally provides a numbero f functions and objects (you can google to learn more about that that means) which you access using so-called \"dot notation\". These are often called the library's API. So for instance, folium has an API entrypoint called `Map`. Once the library is imported, we can access it by issuing the command\n",
    "\n",
    "``` python\n",
    "folium.Map()\n",
    "```\n",
    "\n",
    "(see next section)\n",
    "\n",
    "(section-label)=\n",
    "### Interactive maps with Folium\n",
    "\n",
    "[Folium](https://python-visualization.github.io/folium/latest/index.html) is the keystone of everything we will be learning.  It is a bridge between the python universe and JavaScript tools that work in the browser, so it allows us to build web-based interactive maps easily, without having to learn the complex syntax of JavaScript. \n",
    "\n",
    "Making a map is almost trivially easy:"
   ]
  },
  {
   "cell_type": "code",
   "execution_count": null,
   "id": "c72b8ec0",
   "metadata": {},
   "outputs": [],
   "source": [
    "sample_map = folium.Map()\n",
    "sample_map"
   ]
  },
  {
   "cell_type": "markdown",
   "id": "132d14bc",
   "metadata": {},
   "source": [
    "The first lines creates a \"variable\" called `sample_map` which is an \"instance\" of an object of class `folium.Map`. The second line, when issued as the final line in a Jupyter notebook cell like this one, will generate and display the map. \n",
    "\n",
    "This map is perfectly functional.  However, we can customize it, and make it more useful, by \"passing arguments\" when we create it:"
   ]
  },
  {
   "cell_type": "code",
   "execution_count": null,
   "id": "82e183f6",
   "metadata": {},
   "outputs": [],
   "source": [
    "sample_map = folium.Map(tiles='cartodbpositron',\n",
    "                        location=[45.5019,-73.5674],\n",
    "                        start_zoom=8\n",
    ")\n",
    "sample_map"
   ]
  }
 ],
 "metadata": {
  "jupytext": {
   "cell_metadata_filter": "-all"
  },
  "kernelspec": {
   "display_name": "Python 3 (ipykernel)",
   "language": "python",
   "name": "python3"
  }
 },
 "nbformat": 4,
 "nbformat_minor": 5
}
