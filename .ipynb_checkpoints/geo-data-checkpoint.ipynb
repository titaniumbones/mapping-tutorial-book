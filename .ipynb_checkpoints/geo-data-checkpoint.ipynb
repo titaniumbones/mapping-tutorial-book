{
 "cells": [
  {
   "cell_type": "markdown",
   "id": "135c3b85",
   "metadata": {},
   "source": [
    "# Working with Geographic Data\n",
    "\n",
    "So, now we have seen how to build a map. But we are a Data Commons, and we work with **data**.  So let's start understanding data sources.\n",
    "\n",
    "You are probably used to working with data in spreadsheets or in a tool like [AirTable](https://www.airtable.com). These tools organize data in **tabular format**  -- each dataset is a rectangle with a certain number of rows and columns.  In data science, we sometims call these structures **data frames**, and python has a special package to work with dataframes called [pandas](https://pandas.pydata.org). \n",
    "\n",
    "## Pandas Dataframes\n",
    "Let's import the pandas package and create a simple dataframe.  We'll use a popular open dataset used in many examples on the web, called \"iris\".\n",
    "\n",
    ":::{tip}\n",
    "Notice that wer're using `import` a little differently here than the last time.  By adding `as pd`, we're telling python \"import as usual, but instead of calling the pandas api with the name `pandas`, we'll use the name `pd`.  pdf is the standard abbreviation used by most pythonistas.\n",
    ":::"
   ]
  },
  {
   "cell_type": "code",
   "execution_count": 1,
   "id": "c2847276",
   "metadata": {},
   "outputs": [
    {
     "data": {
      "text/html": [
       "<div>\n",
       "<style scoped>\n",
       "    .dataframe tbody tr th:only-of-type {\n",
       "        vertical-align: middle;\n",
       "    }\n",
       "\n",
       "    .dataframe tbody tr th {\n",
       "        vertical-align: top;\n",
       "    }\n",
       "\n",
       "    .dataframe thead th {\n",
       "        text-align: right;\n",
       "    }\n",
       "</style>\n",
       "<table border=\"1\" class=\"dataframe\">\n",
       "  <thead>\n",
       "    <tr style=\"text-align: right;\">\n",
       "      <th></th>\n",
       "      <th>sepal_length</th>\n",
       "      <th>sepal_width</th>\n",
       "      <th>petal_length</th>\n",
       "      <th>petal_width</th>\n",
       "      <th>species</th>\n",
       "    </tr>\n",
       "  </thead>\n",
       "  <tbody>\n",
       "    <tr>\n",
       "      <th>0</th>\n",
       "      <td>5.1</td>\n",
       "      <td>3.5</td>\n",
       "      <td>1.4</td>\n",
       "      <td>0.2</td>\n",
       "      <td>setosa</td>\n",
       "    </tr>\n",
       "    <tr>\n",
       "      <th>1</th>\n",
       "      <td>4.9</td>\n",
       "      <td>3.0</td>\n",
       "      <td>1.4</td>\n",
       "      <td>0.2</td>\n",
       "      <td>setosa</td>\n",
       "    </tr>\n",
       "    <tr>\n",
       "      <th>2</th>\n",
       "      <td>4.7</td>\n",
       "      <td>3.2</td>\n",
       "      <td>1.3</td>\n",
       "      <td>0.2</td>\n",
       "      <td>setosa</td>\n",
       "    </tr>\n",
       "    <tr>\n",
       "      <th>3</th>\n",
       "      <td>4.6</td>\n",
       "      <td>3.1</td>\n",
       "      <td>1.5</td>\n",
       "      <td>0.2</td>\n",
       "      <td>setosa</td>\n",
       "    </tr>\n",
       "    <tr>\n",
       "      <th>4</th>\n",
       "      <td>5.0</td>\n",
       "      <td>3.6</td>\n",
       "      <td>1.4</td>\n",
       "      <td>0.2</td>\n",
       "      <td>setosa</td>\n",
       "    </tr>\n",
       "    <tr>\n",
       "      <th>...</th>\n",
       "      <td>...</td>\n",
       "      <td>...</td>\n",
       "      <td>...</td>\n",
       "      <td>...</td>\n",
       "      <td>...</td>\n",
       "    </tr>\n",
       "    <tr>\n",
       "      <th>145</th>\n",
       "      <td>6.7</td>\n",
       "      <td>3.0</td>\n",
       "      <td>5.2</td>\n",
       "      <td>2.3</td>\n",
       "      <td>virginica</td>\n",
       "    </tr>\n",
       "    <tr>\n",
       "      <th>146</th>\n",
       "      <td>6.3</td>\n",
       "      <td>2.5</td>\n",
       "      <td>5.0</td>\n",
       "      <td>1.9</td>\n",
       "      <td>virginica</td>\n",
       "    </tr>\n",
       "    <tr>\n",
       "      <th>147</th>\n",
       "      <td>6.5</td>\n",
       "      <td>3.0</td>\n",
       "      <td>5.2</td>\n",
       "      <td>2.0</td>\n",
       "      <td>virginica</td>\n",
       "    </tr>\n",
       "    <tr>\n",
       "      <th>148</th>\n",
       "      <td>6.2</td>\n",
       "      <td>3.4</td>\n",
       "      <td>5.4</td>\n",
       "      <td>2.3</td>\n",
       "      <td>virginica</td>\n",
       "    </tr>\n",
       "    <tr>\n",
       "      <th>149</th>\n",
       "      <td>5.9</td>\n",
       "      <td>3.0</td>\n",
       "      <td>5.1</td>\n",
       "      <td>1.8</td>\n",
       "      <td>virginica</td>\n",
       "    </tr>\n",
       "  </tbody>\n",
       "</table>\n",
       "<p>150 rows × 5 columns</p>\n",
       "</div>"
      ],
      "text/plain": [
       "     sepal_length  sepal_width  petal_length  petal_width    species\n",
       "0             5.1          3.5           1.4          0.2     setosa\n",
       "1             4.9          3.0           1.4          0.2     setosa\n",
       "2             4.7          3.2           1.3          0.2     setosa\n",
       "3             4.6          3.1           1.5          0.2     setosa\n",
       "4             5.0          3.6           1.4          0.2     setosa\n",
       "..            ...          ...           ...          ...        ...\n",
       "145           6.7          3.0           5.2          2.3  virginica\n",
       "146           6.3          2.5           5.0          1.9  virginica\n",
       "147           6.5          3.0           5.2          2.0  virginica\n",
       "148           6.2          3.4           5.4          2.3  virginica\n",
       "149           5.9          3.0           5.1          1.8  virginica\n",
       "\n",
       "[150 rows x 5 columns]"
      ]
     },
     "execution_count": 1,
     "metadata": {},
     "output_type": "execute_result"
    }
   ],
   "source": [
    "import pandas as pd\n",
    "iris = pd.read_csv('https://raw.githubusercontent.com/mwaskom/seaborn-data/master/iris.csv')\n",
    "iris\n"
   ]
  },
  {
   "cell_type": "markdown",
   "id": "0293a4d6",
   "metadata": {},
   "source": [
    "What happened here?  Well, we asked pandas to fetch a csv file on the web ( `https://raw.githubusercontent.com/mwaskom/seaborn-data/master/iris.csv`), and create a DataFrame object named \"iris\" from that CSV. And then we asked pandas to show us the the dataset. \n",
    "\n",
    "There is a lot to learn about pandas, but we'll ignore most of its complexities for now (we'll explore a tiny fraction of its capabilities later). Our real reason for introucing it is to show off an amazing extension of pandas called [geopandas](https://geopandas.org/en/stable/). Geopandas has a number of sophisticated features for working with geographic datasets.\n",
    "\n",
    "## Geopandas Dataframes\n",
    "\n",
    "Geopandas dataframes build on regular pandas. They can do everything pandas can do, but in adidtion, there are special mapping features that would take a lot of work for you to replicate with ordinary `pd.dataFrame` objects. The `GeoDataFrame` makes our lives a lot easier.  \n",
    "\n",
    "Let's begin by acquiring the boundaries of all the ocuntries in the world. The GIS company ESRI [provides such a dataset for free](https://hub.arcgis.com/datasets/esri::world-countries-generalized/explore), though they don't like to share the direct URL for it.  So instead, we have downloaded the dataset in a file near this textbook.\n",
    "\n",
    "Unlike `iris`, this dataset is not stured as a CSV, but in a format called [GeoJSON](https://geojson.org/). Working with GeoJSON directly can be difficult and confusing, but geopandas makes it easy. Let's import the dataset and take a look:"
   ]
  },
  {
   "cell_type": "code",
   "execution_count": null,
   "id": "eeb0197c",
   "metadata": {},
   "outputs": [],
   "source": [
    "import geopandas as gpd\n",
    "countries = gpd.read_file('data/countries.geojson')\n",
    "countries"
   ]
  },
  {
   "cell_type": "markdown",
   "id": "a9b2e068",
   "metadata": {},
   "source": [
    "ok, kind of cool. Now let's do something cooler."
   ]
  },
  {
   "cell_type": "code",
   "execution_count": null,
   "id": "9979d356",
   "metadata": {},
   "outputs": [],
   "source": [
    "countries.plot(edgecolor=\"white\", color=\"green\", linewidth=0.4)"
   ]
  },
  {
   "cell_type": "markdown",
   "id": "eb2c58a6",
   "metadata": {},
   "source": [
    "Geopandas  made a map! And it's a bit hard to tell, but it _overlaid_ a layer of information with country borders on that map.  Here' let's include only the last 20 or so countries in the alphabet, by shortening the dataframe (and, especially, let's get rid of Antacrtica!)."
   ]
  },
  {
   "cell_type": "code",
   "execution_count": null,
   "id": "fd61e6f6",
   "metadata": {},
   "outputs": [],
   "source": [
    "countries.tail(40).plot( edgecolor=\"white\", color=\"green\", linewidth=0.4)"
   ]
  },
  {
   "cell_type": "markdown",
   "id": "6b7a882e",
   "metadata": {},
   "source": [
    "## Merging datasets\n",
    "\n",
    "OK, that was... fine, but not yet incredibly interesting.  What we really want is to show **the geographic dependencies of non-geographic variables.**  Like, how odes wealth or population density vary by country?  \n",
    "\n",
    "T0 do this, we will *merge* our ocuntry geometry data with a second dataset. One simple statistic, on which we have lots of data, is population.  Let's makea `choropleth` picture -- a map in which the color of each country is proportional to its population.\n",
    "\n",
    "Fortunatley, this data [is very easy to get](https://stats.oecd.org/Index.aspx?DataSetCode=EDU_DEM), and we've saved it in the file `data/population.csv`. It doesn't have any geographical geometry information, so we can't actually make it into a GeoDataFrame.  So we'll create a standards pandas DataFrame instead:"
   ]
  },
  {
   "cell_type": "code",
   "execution_count": null,
   "id": "78e53fb2",
   "metadata": {},
   "outputs": [],
   "source": [
    "pop = pd.read_csv('data/world_population.csv')\n",
    "pop.head(2)"
   ]
  },
  {
   "cell_type": "markdown",
   "id": "c0cc3a88",
   "metadata": {},
   "source": [
    "Oh look, here's a stroke of luck. Remember our `countries` dataset from above:"
   ]
  },
  {
   "cell_type": "code",
   "execution_count": null,
   "id": "7b441865",
   "metadata": {},
   "outputs": [],
   "source": [
    "countries.head(2)"
   ]
  },
  {
   "cell_type": "markdown",
   "id": "6d83db92",
   "metadata": {},
   "source": [
    "**Both** datasets contain a column with the country names, and they appear to be identical!  This is gret news -- it means we can **merge** these datasets together, using the commons information as a \"key\"! Terrific. Now we just need to instruct `gpd` how to find that two columns -- which, you'll notice, have different names. Here's how we do that:"
   ]
  },
  {
   "cell_type": "code",
   "execution_count": null,
   "id": "df1c228b",
   "metadata": {},
   "outputs": [],
   "source": [
    "joined = gpd.GeoDataFrame(countries.merge(pop, left_on=\"COUNTRY\", right_on='Country/Territory'))\n",
    "joined.head(2)"
   ]
  },
  {
   "cell_type": "markdown",
   "id": "9c4e94cb",
   "metadata": {},
   "source": [
    "As you can see, we have now combined the two datasets. GeoPandas has a quick and dirty way of showing data on a map, using colors."
   ]
  },
  {
   "cell_type": "code",
   "execution_count": null,
   "id": "030f6339",
   "metadata": {},
   "outputs": [],
   "source": [
    "joined.plot(column='2022 Population')\n"
   ]
  }
 ],
 "metadata": {
  "jupytext": {
   "cell_metadata_filter": "-all",
   "formats": "md:myst,ipynb,auto:percent"
  },
  "kernelspec": {
   "display_name": "Python 3 (ipykernel)",
   "language": "python",
   "name": "python3"
  },
  "language_info": {
   "codemirror_mode": {
    "name": "ipython",
    "version": 3
   },
   "file_extension": ".py",
   "mimetype": "text/x-python",
   "name": "python",
   "nbconvert_exporter": "python",
   "pygments_lexer": "ipython3",
   "version": "3.11.7"
  }
 },
 "nbformat": 4,
 "nbformat_minor": 5
}
