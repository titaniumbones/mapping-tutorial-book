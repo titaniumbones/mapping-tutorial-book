{
 "cells": [
  {
   "cell_type": "markdown",
   "id": "3e08e2b2",
   "metadata": {},
   "source": [
    "# Bring it All Together:  Fine-Tune your Folium Map\n",
    "\n",
    "We've done so great!  Let's bring this all together, with a folium map that includes all the data we've done so far, with customized colors and controls.  \n",
    "\n",
    "## Import Everything"
   ]
  },
  {
   "cell_type": "code",
   "execution_count": 1,
   "id": "db02ae99",
   "metadata": {},
   "outputs": [],
   "source": [
    "import folium\n",
    "import pandas as pd\n",
    "import numbers\n",
    "import geopandas as gpd\n",
    "import branca.colormap as cm\n",
    "from pyproj import Transformer\n",
    "import xyzservices.providers as xyz"
   ]
  },
  {
   "cell_type": "markdown",
   "id": "2ad7479c",
   "metadata": {},
   "source": [
    "## Remake Our Data\n",
    "\n",
    "This is a compressed version of the code from [our lest lesson](./geo-data.html).  If it is hard to follow, refer to that lesson."
   ]
  },
  {
   "cell_type": "code",
   "execution_count": 10,
   "id": "7fd4671f",
   "metadata": {},
   "outputs": [
    {
     "data": {
      "text/html": [
       "<div>\n",
       "<style scoped>\n",
       "    .dataframe tbody tr th:only-of-type {\n",
       "        vertical-align: middle;\n",
       "    }\n",
       "\n",
       "    .dataframe tbody tr th {\n",
       "        vertical-align: top;\n",
       "    }\n",
       "\n",
       "    .dataframe thead th {\n",
       "        text-align: right;\n",
       "    }\n",
       "</style>\n",
       "<table border=\"1\" class=\"dataframe\">\n",
       "  <thead>\n",
       "    <tr style=\"text-align: right;\">\n",
       "      <th></th>\n",
       "      <th>FID</th>\n",
       "      <th>COUNTRY</th>\n",
       "      <th>ISO</th>\n",
       "      <th>COUNTRYAFF</th>\n",
       "      <th>AFF_ISO</th>\n",
       "      <th>geometry</th>\n",
       "      <th>Rank</th>\n",
       "      <th>CCA3</th>\n",
       "      <th>Country/Territory</th>\n",
       "      <th>Capital</th>\n",
       "      <th>...</th>\n",
       "      <th>2015 Population</th>\n",
       "      <th>2010 Population</th>\n",
       "      <th>2000 Population</th>\n",
       "      <th>1990 Population</th>\n",
       "      <th>1980 Population</th>\n",
       "      <th>1970 Population</th>\n",
       "      <th>Area (km²)</th>\n",
       "      <th>Density (per km²)</th>\n",
       "      <th>Growth Rate</th>\n",
       "      <th>World Population Percentage</th>\n",
       "    </tr>\n",
       "  </thead>\n",
       "  <tbody>\n",
       "    <tr>\n",
       "      <th>0</th>\n",
       "      <td>1</td>\n",
       "      <td>Afghanistan</td>\n",
       "      <td>AF</td>\n",
       "      <td>Afghanistan</td>\n",
       "      <td>AF</td>\n",
       "      <td>POLYGON ((6821274.810 4246712.610, 6823482.060...</td>\n",
       "      <td>36</td>\n",
       "      <td>AFG</td>\n",
       "      <td>Afghanistan</td>\n",
       "      <td>Kabul</td>\n",
       "      <td>...</td>\n",
       "      <td>33753499</td>\n",
       "      <td>28189672</td>\n",
       "      <td>19542982</td>\n",
       "      <td>10694796</td>\n",
       "      <td>12486631</td>\n",
       "      <td>10752971</td>\n",
       "      <td>652230</td>\n",
       "      <td>63.0587</td>\n",
       "      <td>1.0257</td>\n",
       "      <td>0.52</td>\n",
       "    </tr>\n",
       "    <tr>\n",
       "      <th>1</th>\n",
       "      <td>2</td>\n",
       "      <td>Albania</td>\n",
       "      <td>AL</td>\n",
       "      <td>Albania</td>\n",
       "      <td>AL</td>\n",
       "      <td>POLYGON ((2178614.504 5113950.867, 2179852.164...</td>\n",
       "      <td>138</td>\n",
       "      <td>ALB</td>\n",
       "      <td>Albania</td>\n",
       "      <td>Tirana</td>\n",
       "      <td>...</td>\n",
       "      <td>2882481</td>\n",
       "      <td>2913399</td>\n",
       "      <td>3182021</td>\n",
       "      <td>3295066</td>\n",
       "      <td>2941651</td>\n",
       "      <td>2324731</td>\n",
       "      <td>28748</td>\n",
       "      <td>98.8702</td>\n",
       "      <td>0.9957</td>\n",
       "      <td>0.04</td>\n",
       "    </tr>\n",
       "  </tbody>\n",
       "</table>\n",
       "<p>2 rows × 23 columns</p>\n",
       "</div>"
      ],
      "text/plain": [
       "   FID      COUNTRY ISO   COUNTRYAFF AFF_ISO  \\\n",
       "0    1  Afghanistan  AF  Afghanistan      AF   \n",
       "1    2      Albania  AL      Albania      AL   \n",
       "\n",
       "                                            geometry  Rank CCA3  \\\n",
       "0  POLYGON ((6821274.810 4246712.610, 6823482.060...    36  AFG   \n",
       "1  POLYGON ((2178614.504 5113950.867, 2179852.164...   138  ALB   \n",
       "\n",
       "  Country/Territory Capital  ... 2015 Population  2010 Population  \\\n",
       "0       Afghanistan   Kabul  ...        33753499         28189672   \n",
       "1           Albania  Tirana  ...         2882481          2913399   \n",
       "\n",
       "   2000 Population  1990 Population  1980 Population  1970 Population  \\\n",
       "0         19542982         10694796         12486631         10752971   \n",
       "1          3182021          3295066          2941651          2324731   \n",
       "\n",
       "   Area (km²)  Density (per km²)  Growth Rate  World Population Percentage  \n",
       "0      652230            63.0587       1.0257                         0.52  \n",
       "1       28748            98.8702       0.9957                         0.04  \n",
       "\n",
       "[2 rows x 23 columns]"
      ]
     },
     "execution_count": 10,
     "metadata": {},
     "output_type": "execute_result"
    }
   ],
   "source": [
    "pop = pd.read_csv('data/world_population.csv')\n",
    "countries = gpd.read_file('data/countries.geojson')\n",
    "countries = countries.replace(\"Congo DRC\", \"Democratic Republic of the Congo\")\n",
    "pop=pop.replace(\"DR Congo\", \"Democratic Republic of the Congo\")\n",
    "countries = countries.replace(\"Congo\", \"Republic of the Congo\")\n",
    "countries = countries.replace(\"Russian Federation\", \"Russia\")\n",
    "countries = countries.replace(\"Bosnia and Herzegovina\", \"Bosnia & Herzegovina\")\n",
    "\n",
    "joined = gpd.GeoDataFrame(countries.merge(pop, left_on=\"COUNTRY\", right_on='Country/Territory'))\n",
    "joined.head(2)"
   ]
  },
  {
   "cell_type": "markdown",
   "id": "5d92fab0",
   "metadata": {},
   "source": [
    "## Create our Map\n",
    "\n",
    "Now we'll create a a map and add our data as a layer:"
   ]
  },
  {
   "cell_type": "code",
   "execution_count": 14,
   "id": "4fd718ab",
   "metadata": {},
   "outputs": [
    {
     "ename": "ModuleNotFoundError",
     "evalue": "No module named 'jenkspy'",
     "output_type": "error",
     "traceback": [
      "\u001b[0;31m---------------------------------------------------------------------------\u001b[0m",
      "\u001b[0;31mModuleNotFoundError\u001b[0m                       Traceback (most recent call last)",
      "Cell \u001b[0;32mIn[14], line 7\u001b[0m\n\u001b[1;32m      4\u001b[0m folium\u001b[38;5;241m.\u001b[39mTileLayer(xyz\u001b[38;5;241m.\u001b[39mCartoDB\u001b[38;5;241m.\u001b[39mPositronNoLabels)\u001b[38;5;241m.\u001b[39madd_to(mymap)\n\u001b[1;32m      5\u001b[0m folium\u001b[38;5;241m.\u001b[39mTileLayer(xyz\u001b[38;5;241m.\u001b[39mCartoDB\u001b[38;5;241m.\u001b[39mDarkMatterNoLabels)\u001b[38;5;241m.\u001b[39madd_to(mymap)\n\u001b[0;32m----> 7\u001b[0m l\u001b[38;5;241m=\u001b[39mfolium\u001b[38;5;241m.\u001b[39mChoropleth(\n\u001b[1;32m      8\u001b[0m     geo_data\u001b[38;5;241m=\u001b[39mjoined,\n\u001b[1;32m      9\u001b[0m     name\u001b[38;5;241m=\u001b[39m\u001b[38;5;124m\"\u001b[39m\u001b[38;5;124mchoropleth\u001b[39m\u001b[38;5;124m\"\u001b[39m,\n\u001b[1;32m     10\u001b[0m     data\u001b[38;5;241m=\u001b[39mjoined,\n\u001b[1;32m     11\u001b[0m     columns\u001b[38;5;241m=\u001b[39m[\u001b[38;5;124m\"\u001b[39m\u001b[38;5;124mCountry/Territory\u001b[39m\u001b[38;5;124m\"\u001b[39m, \u001b[38;5;124m\"\u001b[39m\u001b[38;5;124m2022 Population\u001b[39m\u001b[38;5;124m\"\u001b[39m],\n\u001b[1;32m     12\u001b[0m     key_on\u001b[38;5;241m=\u001b[39m\u001b[38;5;124m\"\u001b[39m\u001b[38;5;124mfeature.properties.Country/Territory\u001b[39m\u001b[38;5;124m\"\u001b[39m,\n\u001b[1;32m     13\u001b[0m     fill_color\u001b[38;5;241m=\u001b[39m\u001b[38;5;124m\"\u001b[39m\u001b[38;5;124mYlGn\u001b[39m\u001b[38;5;124m\"\u001b[39m,\n\u001b[1;32m     14\u001b[0m     fill_opacity\u001b[38;5;241m=\u001b[39m\u001b[38;5;241m0.7\u001b[39m,\n\u001b[1;32m     15\u001b[0m     line_opacity\u001b[38;5;241m=\u001b[39m\u001b[38;5;241m0.2\u001b[39m,\n\u001b[1;32m     16\u001b[0m     use_jenks\u001b[38;5;241m=\u001b[39m\u001b[38;5;28;01mTrue\u001b[39;00m,\n\u001b[1;32m     17\u001b[0m     legend_name\u001b[38;5;241m=\u001b[39m\u001b[38;5;124m\"\u001b[39m\u001b[38;5;124mPopulation (millions)\u001b[39m\u001b[38;5;124m\"\u001b[39m,\n\u001b[1;32m     18\u001b[0m )\n\u001b[1;32m     19\u001b[0m \u001b[38;5;66;03m# l = folium.GeoJson(joined, column='2022 Population')\u001b[39;00m\n\u001b[1;32m     20\u001b[0m l\u001b[38;5;241m.\u001b[39madd_to(mymap)\n",
      "File \u001b[0;32m~/.conda/envs/anaconda-learning/lib/python3.11/site-packages/folium/features.py:1545\u001b[0m, in \u001b[0;36mChoropleth.__init__\u001b[0;34m(self, geo_data, data, columns, key_on, bins, fill_color, nan_fill_color, fill_opacity, nan_fill_opacity, line_color, line_weight, line_opacity, name, legend_name, overlay, control, show, topojson, smooth_factor, highlight, use_jenks, **kwargs)\u001b[0m\n\u001b[1;32m   1543\u001b[0m real_values \u001b[38;5;241m=\u001b[39m real_values[\u001b[38;5;241m~\u001b[39mnp\u001b[38;5;241m.\u001b[39misnan(real_values)]\n\u001b[1;32m   1544\u001b[0m \u001b[38;5;28;01mif\u001b[39;00m use_jenks:\n\u001b[0;32m-> 1545\u001b[0m     \u001b[38;5;28;01mfrom\u001b[39;00m \u001b[38;5;21;01mjenkspy\u001b[39;00m \u001b[38;5;28;01mimport\u001b[39;00m jenks_breaks\n\u001b[1;32m   1547\u001b[0m     \u001b[38;5;28;01mif\u001b[39;00m \u001b[38;5;129;01mnot\u001b[39;00m \u001b[38;5;28misinstance\u001b[39m(bins, \u001b[38;5;28mint\u001b[39m):\n\u001b[1;32m   1548\u001b[0m         \u001b[38;5;28;01mraise\u001b[39;00m \u001b[38;5;167;01mValueError\u001b[39;00m(\n\u001b[1;32m   1549\u001b[0m             \u001b[38;5;124mf\u001b[39m\u001b[38;5;124m\"\u001b[39m\u001b[38;5;124mbins value must be an integer when using Jenks.\u001b[39m\u001b[38;5;124m\"\u001b[39m\n\u001b[1;32m   1550\u001b[0m             \u001b[38;5;124mf\u001b[39m\u001b[38;5;124m'\u001b[39m\u001b[38;5;124m Invalid value \u001b[39m\u001b[38;5;124m\"\u001b[39m\u001b[38;5;132;01m{\u001b[39;00mbins\u001b[38;5;132;01m}\u001b[39;00m\u001b[38;5;124m\"\u001b[39m\u001b[38;5;124m received.\u001b[39m\u001b[38;5;124m'\u001b[39m\n\u001b[1;32m   1551\u001b[0m         )\n",
      "\u001b[0;31mModuleNotFoundError\u001b[0m: No module named 'jenkspy'"
     ]
    }
   ],
   "source": [
    "mymap = folium.Map(location=[30,0], zoom_start=3, min_zoom=3, max_bounds=True)\n",
    "folium.TileLayer(xyz.CartoDB.Voyager).add_to(mymap)\n",
    "folium.TileLayer(xyz.Esri.WorldGrayCanvas).add_to(mymap)\n",
    "folium.TileLayer(xyz.CartoDB.PositronNoLabels).add_to(mymap)\n",
    "folium.TileLayer(xyz.CartoDB.DarkMatterNoLabels).add_to(mymap)\n",
    "\n",
    "l=folium.Choropleth(\n",
    "    geo_data=joined,\n",
    "    name=\"choropleth\",\n",
    "    data=joined,\n",
    "    columns=[\"Country/Territory\", \"2022 Population\"],\n",
    "    key_on=\"feature.properties.Country/Territory\",\n",
    "    fill_color=\"YlGn\",\n",
    "    fill_opacity=0.7,\n",
    "    line_opacity=0.2,\n",
    "    use_jenks=True,\n",
    "    legend_name=\"Population (millions)\",\n",
    ")\n",
    "# l = folium.GeoJson(joined, column='2022 Population')\n",
    "l.add_to(mymap)\n",
    "mymap"
   ]
  }
 ],
 "metadata": {
  "jupytext": {
   "cell_metadata_filter": "-all",
   "formats": "md:myst,ipynb,py:percent"
  },
  "kernelspec": {
   "display_name": "Python 3 (ipykernel)",
   "language": "python",
   "name": "python3"
  },
  "language_info": {
   "codemirror_mode": {
    "name": "ipython",
    "version": 3
   },
   "file_extension": ".py",
   "mimetype": "text/x-python",
   "name": "python",
   "nbconvert_exporter": "python",
   "pygments_lexer": "ipython3",
   "version": "3.11.7"
  }
 },
 "nbformat": 4,
 "nbformat_minor": 5
}
